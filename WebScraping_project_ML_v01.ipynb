{
 "cells": [
  {
   "cell_type": "markdown",
   "id": "b63fc669",
   "metadata": {},
   "source": [
    "<div style=\"text-align: center;\">\n",
    "    <img src=\"https://i.imgur.com/zTLujrk.png\" alt=\"JPierre-DATA ANALIST\" \n",
    "         style=\"width:300px; float: right; margin: 30px 10px;\"></img>\n",
    "\t<div style=\"\"><p style=\"font-weight: bold; font-size: 26px; color: #444654; \n",
    "      float:  left; margin: 50px 30px;\">WebScraping con Python y BS4</p>\n",
    "\t</div>\n",
    "</div>"
   ]
  },
  {
   "cell_type": "markdown",
   "id": "8d606240",
   "metadata": {},
   "source": [
    "<img src=\"https://i.imgur.com/4gX5WFr.png\" alt=\"JPierre-DATA ANALIST\"></img>"
   ]
  },
  {
   "cell_type": "markdown",
   "id": "6ee76fc4",
   "metadata": {
    "toc": true
   },
   "source": [
    "<h1>Table of Contents<span class=\"tocSkip\"></span></h1>\n",
    "<div class=\"toc\"><ul class=\"toc-item\"><li><span><a href=\"#Función-controladora\" data-toc-modified-id=\"Función-controladora-1\"><span class=\"toc-item-num\">1&nbsp;&nbsp;</span>Función controladora</a></span></li><li><span><a href=\"#Función-de-Scraping\" data-toc-modified-id=\"Función-de-Scraping-2\"><span class=\"toc-item-num\">2&nbsp;&nbsp;</span>Función de Scraping</a></span></li><li><span><a href=\"#Entrada-de-las-url-a-consultar\" data-toc-modified-id=\"Entrada-de-las-url-a-consultar-3\"><span class=\"toc-item-num\">3&nbsp;&nbsp;</span>Entrada de las url a consultar</a></span></li><li><span><a href=\"#Lanzamiento-del-proceso\" data-toc-modified-id=\"Lanzamiento-del-proceso-4\"><span class=\"toc-item-num\">4&nbsp;&nbsp;</span><strong>Lanzamiento del proceso</strong></a></span></li><li><span><a href=\"#EDA\" data-toc-modified-id=\"EDA-5\"><span class=\"toc-item-num\">5&nbsp;&nbsp;</span>EDA</a></span></li><li><span><a href=\"#Consideraciones-finales:\" data-toc-modified-id=\"Consideraciones-finales:-6\"><span class=\"toc-item-num\">6&nbsp;&nbsp;</span>Consideraciones finales:</a></span></li></ul></div>"
   ]
  },
  {
   "cell_type": "markdown",
   "id": "8acb7bf5",
   "metadata": {},
   "source": [
    "<img src=\"https://i.imgur.com/4gX5WFr.png\" alt=\"JPierre-DATA ANALIST\"></img>"
   ]
  },
  {
   "cell_type": "markdown",
   "id": "fbaa0841",
   "metadata": {},
   "source": [
    " <p style=\"font-weight: bold; font-size: 26px; color: #444654; \n",
    "      float:  left; margin: 20px 20px;\">Introducción</p>"
   ]
  },
  {
   "cell_type": "markdown",
   "id": "8c63dc52",
   "metadata": {},
   "source": [
    "**Problema que soluciona este proyecto**"
   ]
  },
  {
   "cell_type": "markdown",
   "id": "610048f8",
   "metadata": {},
   "source": [
    "<span style=\"font-family: Arial; font-size: 12pt;\">\n",
    "   \n",
    "Como analistas de datos, nos enfrentamos al desafío constante de obtener una cantidad suficiente de datos para llegar a conclusiones confiables. La obtención de datos se vuelve aún más complicada debido a la dificultad para acceder a fuentes actualizadas y a la necesidad de recopilar manualmente información de páginas que no ofrecen servicios de API.\n",
    "\n",
    "Este proyecto aborda de manera efectiva estas dificultades al proporcionar una solución integral. Su objetivo principal es desarrollar una herramienta que nos permita adquirir datos de productos a gran escala. Estos datos se convertirán en la base para análisis de mercado, comparación de productos y seguimiento de variaciones de precios. A pesar de ser un proyecto experimental, destaca por su enorme potencial de escalabilidad. El resultado final es una solución completamente funcional.\n",
    "\n",
    "Las tecnologías fundamentales utilizadas en este proyecto son Python, Pandas y Beautiful Soup.\n",
    " \n",
    "\n",
    "</span>"
   ]
  },
  {
   "cell_type": "markdown",
   "id": "38276bb8",
   "metadata": {},
   "source": [
    "**¿Cómo funciona?**"
   ]
  },
  {
   "cell_type": "markdown",
   "id": "9fbc60e4",
   "metadata": {},
   "source": [
    "<span style=\"font-family: Arial; font-size: 12pt;\">\n",
    "El flujo de este proceso sigue el diseño de una aplicación que acepta URL de páginas para extraer datos específicos. Posteriormente, estos datos se almacenan en un único archivo como un DataFrame, lo que permite la aplicación de técnicas analíticas de negocio. Es crucial adaptar el código para una página específica, donde la extracción de datos se realiza a través de selectores de CSS.\n",
    "    \n",
    "\n",
    "Este enfoque proporciona una solución eficiente y centrada en la personalización, permitiendo la flexibilidad necesaria para abordar las particularidades de cada página web objetivo. La adaptabilidad del código es esencial para asegurar la extracción precisa de datos según la estructura y los selectores específicos de CSS de la página en cuestión.\n",
    "</span>"
   ]
  },
  {
   "cell_type": "markdown",
   "id": "44d334e2",
   "metadata": {},
   "source": [
    "# Función controladora"
   ]
  },
  {
   "cell_type": "code",
   "execution_count": 1,
   "id": "06f3edae",
   "metadata": {},
   "outputs": [],
   "source": [
    "# paso 1\n",
    "\n",
    "import requests\n",
    "from bs4 import BeautifulSoup\n",
    "import pandas as pd\n",
    "\n",
    "\n",
    "def controladora(url_list, contador_ejecuciones):\n",
    "    \n",
    "    from IPython.display import Markdown, display\n",
    "\n",
    "    # Inicializar variables\n",
    "    url_consultar = None\n",
    "\n",
    "    # Iterar mientras haya URLs en la lista y el contador sea mayor que cero\n",
    "    while url_list and contador_ejecuciones > 0:\n",
    "        # Obtener la siguiente URL de la lista\n",
    "        url_consultar = url_list.pop(0)\n",
    "\n",
    "        # Llamar a la función web_scraping con la URL actual\n",
    "        try:\n",
    "            respuesta = web_scraping(url_consultar)\n",
    "            # Si la respuesta es exitosa, imprimir mensaje\n",
    "            print(f\"Consulta web exitosa para {url_consultar}\")\n",
    "        except Exception as e:\n",
    "            # Si hay un error, imprimir mensaje de error en formato HTML y continuar con la siguiente URL\n",
    "            mensaje_error = f\"<font color='red'>Fallo en la consulta web para {url_consultar}. Mensaje de error: {e}</font>\"\n",
    "            display(Markdown(mensaje_error))\n",
    "            continue\n",
    "\n",
    "        # Actualizar el contador de ejecuciones\n",
    "        contador_ejecuciones -= 1\n",
    "\n",
    "    # Imprimir mensaje cuando se complete el proceso\n",
    "    print('Proceso completado con éxito!')\n"
   ]
  },
  {
   "cell_type": "markdown",
   "id": "797a8707",
   "metadata": {},
   "source": [
    "# Función de Scraping"
   ]
  },
  {
   "cell_type": "code",
   "execution_count": 2,
   "id": "a9bc562b",
   "metadata": {},
   "outputs": [],
   "source": [
    "# paso 2\n",
    "\n",
    "def web_scraping(url):\n",
    "    # Hacer la solicitud HTTP a la URL\n",
    "    response = requests.get(url)\n",
    "\n",
    "    # Verificar si la solicitud fue exitosa\n",
    "    if response.status_code == 200:\n",
    "        # Crear el objeto BeautifulSoup\n",
    "        soup = BeautifulSoup(response.text, 'html.parser')\n",
    "\n",
    "        # Definir los selectores para cada variable\n",
    "        selector_nombre = 'div.ui-search-item__group.ui-search-item__group--title > a > h2'\n",
    "        selector_precio = 'span.andes-money-amount__fraction'\n",
    "        selector_raiting = 'span.ui-search-reviews__rating-number'\n",
    "        selector_url_img = 'div.andes-carousel-snapped__controls-wrapper > div > div > div > img'\n",
    "        selector_descuento = 'div.container-promotion > div > div'\n",
    "        selector_envio = 'div.ui-search-item__group.ui-search-item__group--shipping > div > p'\n",
    "\n",
    "        # Inicializar listas para almacenar valores\n",
    "        nombres = []\n",
    "        precios = []\n",
    "        ratings = []\n",
    "        urls_img = []\n",
    "        descuentos = []\n",
    "        envios = []\n",
    "\n",
    "        # Obtener todas las secciones con la etiqueta 'li.ui-search-layout__item'\n",
    "        secciones = soup.find_all('li', class_='ui-search-layout__item')\n",
    "\n",
    "        # Iterar sobre cada sección\n",
    "        for seccion in secciones:\n",
    "            # Obtener el nombre del producto\n",
    "            nombre = seccion.select_one(selector_nombre)\n",
    "            nombres.append(nombre.text.strip() if nombre else 'nd')\n",
    "\n",
    "            # Obtener el precio del producto\n",
    "            precio = seccion.select_one(selector_precio)\n",
    "            precios.append(precio.text.strip() if precio else 'nd')\n",
    "\n",
    "            # Obtener el rating del producto\n",
    "            rating = seccion.select_one(selector_raiting)\n",
    "            ratings.append(rating.text.strip() if rating else 'nd')\n",
    "\n",
    "            # Obtener la URL de la imagen del producto\n",
    "            url_img = seccion.select_one(selector_url_img)\n",
    "            urls_img.append(url_img['data-src'].strip() if url_img else 'nd')\n",
    "\n",
    "            # Obtener el descuento del producto\n",
    "            descuento = seccion.select_one(selector_descuento)\n",
    "            descuentos.append(descuento.text.strip() if descuento else 'nd')\n",
    "\n",
    "            # Obtener el tipo de envío del producto\n",
    "            envio = seccion.select_one(selector_envio)\n",
    "            envios.append(envio.text.strip() if envio else 'nd')\n",
    "\n",
    "        # Crear un diccionario con las listas obtenidas\n",
    "        datos_dict = {\n",
    "                'Nombre': nombres,\n",
    "                'Precio': precios,\n",
    "                'Rating': ratings,\n",
    "                'URL Imagen': urls_img,\n",
    "                'Descuento': descuentos,\n",
    "                'Envío': envios\n",
    "            }\n",
    "        \n",
    "        try:\n",
    "            # Intentar cargar el DataFrame existente con datos externos\n",
    "            #esto funciona como una carga continua de datos.\n",
    "            data = pd.read_pickle('Proj_ML_3.pkl')\n",
    "\n",
    "            # Si el DataFrame existe, agregar nuevos datos y junta lo nuevo y lo externo aqui\n",
    "            data = pd.concat([data, pd.DataFrame.from_dict(datos_dict)])\n",
    "\n",
    "        except FileNotFoundError:\n",
    "            # Si el DataFrame no existe, crear uno nuevo con los datos\n",
    "            data = pd.DataFrame.from_dict(datos_dict)\n",
    "\n",
    "        # Guardar el DataFrame en un archivo pickle para futuras ejecuciones\n",
    "        data.to_pickle('Proj_ML_3.pkl')\n",
    "        \n",
    "        return 'exitosa'\n",
    "    else:\n",
    "        print(f\"Error al hacer la solicitud. Código de estado: {response.status_code}\")\n",
    "        return 'falla conexión'\n",
    "    "
   ]
  },
  {
   "cell_type": "markdown",
   "id": "68b357ce",
   "metadata": {},
   "source": [
    "# Entrada de las url a consultar"
   ]
  },
  {
   "cell_type": "code",
   "execution_count": 3,
   "id": "5c47e1d5",
   "metadata": {},
   "outputs": [],
   "source": [
    "# pso 3\n",
    "# Lista de url a consultar - ingresa el listado de las url sin olvidar separalas por comas\n",
    "urls_a_consultar = [\n",
    "    'https://listado.mercadolibre.cl/funko-pops#D[A:funko%20pops]',\n",
    "    'https://listado.mercadolibre.cl/juegos-juguetes/munecos-munecas/figuras-accion/funko-pops_Desde_51_NoIndex_True',\n",
    "    'https://listado.mercadolibre.cl/juegos-juguetes/munecos-munecas/figuras-accion/funko-pops_Desde_101_NoIndex_True',\n",
    "    'https://listado.mercadolibre.cl/juegos-juguetes/munecos-munecas/figuras-accion/funko-pops_Desde_151_NoIndex_True',\n",
    "    'https://listado.mercadolibre.cl/juegos-juguetes/munecos-munecas/figuras-accion/funko-pops_Desde_201_NoIndex_True'\n",
    "]"
   ]
  },
  {
   "cell_type": "markdown",
   "id": "33e567ae",
   "metadata": {},
   "source": [
    "**Monitreo previo al controlador**"
   ]
  },
  {
   "cell_type": "code",
   "execution_count": 4,
   "id": "39ff7a04",
   "metadata": {},
   "outputs": [
    {
     "name": "stdout",
     "output_type": "stream",
     "text": [
      "Cantidad de paginas a consultar= 5\n"
     ]
    }
   ],
   "source": [
    "#  paso 4\n",
    "contador_inicial = len(urls_a_consultar)\n",
    "print(f'Cantidad de paginas a consultar= {contador_inicial}')"
   ]
  },
  {
   "cell_type": "markdown",
   "id": "d1b62ee8",
   "metadata": {},
   "source": [
    "# **Lanzamiento del proceso**"
   ]
  },
  {
   "cell_type": "code",
   "execution_count": 5,
   "id": "3d525d75",
   "metadata": {},
   "outputs": [
    {
     "name": "stdout",
     "output_type": "stream",
     "text": [
      "Consulta web exitosa para https://listado.mercadolibre.cl/funko-pops#D[A:funko%20pops]\n",
      "Consulta web exitosa para https://listado.mercadolibre.cl/juegos-juguetes/munecos-munecas/figuras-accion/funko-pops_Desde_51_NoIndex_True\n",
      "Consulta web exitosa para https://listado.mercadolibre.cl/juegos-juguetes/munecos-munecas/figuras-accion/funko-pops_Desde_101_NoIndex_True\n",
      "Consulta web exitosa para https://listado.mercadolibre.cl/juegos-juguetes/munecos-munecas/figuras-accion/funko-pops_Desde_151_NoIndex_True\n",
      "Consulta web exitosa para https://listado.mercadolibre.cl/juegos-juguetes/munecos-munecas/figuras-accion/funko-pops_Desde_201_NoIndex_True\n",
      "Proceso completado con éxito!\n"
     ]
    }
   ],
   "source": [
    "# paso 5 lamada a la funcion principal\n",
    "controladora(urls_a_consultar, contador_inicial)"
   ]
  },
  {
   "cell_type": "markdown",
   "id": "a73870e3",
   "metadata": {},
   "source": [
    "."
   ]
  },
  {
   "cell_type": "markdown",
   "id": "fffe175f",
   "metadata": {},
   "source": [
    "# EDA"
   ]
  },
  {
   "cell_type": "code",
   "execution_count": 6,
   "id": "f36caa35",
   "metadata": {},
   "outputs": [
    {
     "data": {
      "text/html": [
       "<div>\n",
       "<style scoped>\n",
       "    .dataframe tbody tr th:only-of-type {\n",
       "        vertical-align: middle;\n",
       "    }\n",
       "\n",
       "    .dataframe tbody tr th {\n",
       "        vertical-align: top;\n",
       "    }\n",
       "\n",
       "    .dataframe thead th {\n",
       "        text-align: right;\n",
       "    }\n",
       "</style>\n",
       "<table border=\"1\" class=\"dataframe\">\n",
       "  <thead>\n",
       "    <tr style=\"text-align: right;\">\n",
       "      <th></th>\n",
       "      <th>Nombre</th>\n",
       "      <th>Precio</th>\n",
       "      <th>Rating</th>\n",
       "      <th>URL Imagen</th>\n",
       "      <th>Descuento</th>\n",
       "      <th>Envío</th>\n",
       "    </tr>\n",
       "  </thead>\n",
       "  <tbody>\n",
       "    <tr>\n",
       "      <th>0</th>\n",
       "      <td>Figura de acción  Roronoa Zoro 54462 de Funko ...</td>\n",
       "      <td>16.900</td>\n",
       "      <td>4.9</td>\n",
       "      <td>https://http2.mlstatic.com/D_NQ_NP_642086-MLA7...</td>\n",
       "      <td>$ 5000 OFF Verano</td>\n",
       "      <td>nd</td>\n",
       "    </tr>\n",
       "    <tr>\n",
       "      <th>1</th>\n",
       "      <td>Figura de acción  Nezuko Kamado Nezuko Boxlunc...</td>\n",
       "      <td>18.900</td>\n",
       "      <td>4.9</td>\n",
       "      <td>https://http2.mlstatic.com/D_NQ_NP_989557-MLA5...</td>\n",
       "      <td>$ 5000 OFF Verano</td>\n",
       "      <td>nd</td>\n",
       "    </tr>\n",
       "    <tr>\n",
       "      <th>2</th>\n",
       "      <td>Figura de acción  Tanjiro Kamado 49010 de Funk...</td>\n",
       "      <td>11.990</td>\n",
       "      <td>4.8</td>\n",
       "      <td>https://http2.mlstatic.com/D_NQ_NP_709011-MLA5...</td>\n",
       "      <td>$ 5000 OFF Verano</td>\n",
       "      <td>nd</td>\n",
       "    </tr>\n",
       "    <tr>\n",
       "      <th>3</th>\n",
       "      <td>Funko Pop Demon Slayer Kimetsu No Yaiba Inosuk...</td>\n",
       "      <td>12.900</td>\n",
       "      <td>4.9</td>\n",
       "      <td>https://http2.mlstatic.com/D_NQ_NP_607170-MLC4...</td>\n",
       "      <td>$ 5000 OFF Verano</td>\n",
       "      <td>nd</td>\n",
       "    </tr>\n",
       "    <tr>\n",
       "      <th>4</th>\n",
       "      <td>Figura de acción  Iron Man glow in the dark I ...</td>\n",
       "      <td>19.900</td>\n",
       "      <td>4.8</td>\n",
       "      <td>https://http2.mlstatic.com/D_NQ_NP_832833-MLA5...</td>\n",
       "      <td>$ 5000 OFF Verano</td>\n",
       "      <td>nd</td>\n",
       "    </tr>\n",
       "  </tbody>\n",
       "</table>\n",
       "</div>"
      ],
      "text/plain": [
       "                                              Nombre  Precio Rating  \\\n",
       "0  Figura de acción  Roronoa Zoro 54462 de Funko ...  16.900    4.9   \n",
       "1  Figura de acción  Nezuko Kamado Nezuko Boxlunc...  18.900    4.9   \n",
       "2  Figura de acción  Tanjiro Kamado 49010 de Funk...  11.990    4.8   \n",
       "3  Funko Pop Demon Slayer Kimetsu No Yaiba Inosuk...  12.900    4.9   \n",
       "4  Figura de acción  Iron Man glow in the dark I ...  19.900    4.8   \n",
       "\n",
       "                                          URL Imagen          Descuento Envío  \n",
       "0  https://http2.mlstatic.com/D_NQ_NP_642086-MLA7...  $ 5000 OFF Verano    nd  \n",
       "1  https://http2.mlstatic.com/D_NQ_NP_989557-MLA5...  $ 5000 OFF Verano    nd  \n",
       "2  https://http2.mlstatic.com/D_NQ_NP_709011-MLA5...  $ 5000 OFF Verano    nd  \n",
       "3  https://http2.mlstatic.com/D_NQ_NP_607170-MLC4...  $ 5000 OFF Verano    nd  \n",
       "4  https://http2.mlstatic.com/D_NQ_NP_832833-MLA5...  $ 5000 OFF Verano    nd  "
      ]
     },
     "execution_count": 6,
     "metadata": {},
     "output_type": "execute_result"
    }
   ],
   "source": [
    "mlscrap = pd.read_pickle('Proj_ML_3.pkl')\n",
    "mlscrap.head()"
   ]
  },
  {
   "cell_type": "code",
   "execution_count": 7,
   "id": "522dd236",
   "metadata": {},
   "outputs": [
    {
     "name": "stdout",
     "output_type": "stream",
     "text": [
      "<class 'pandas.core.frame.DataFrame'>\n",
      "Int64Index: 264 entries, 0 to 52\n",
      "Data columns (total 6 columns):\n",
      " #   Column      Non-Null Count  Dtype \n",
      "---  ------      --------------  ----- \n",
      " 0   Nombre      264 non-null    object\n",
      " 1   Precio      264 non-null    object\n",
      " 2   Rating      264 non-null    object\n",
      " 3   URL Imagen  264 non-null    object\n",
      " 4   Descuento   264 non-null    object\n",
      " 5   Envío       264 non-null    object\n",
      "dtypes: object(6)\n",
      "memory usage: 14.4+ KB\n"
     ]
    }
   ],
   "source": [
    "mlscrap.info()"
   ]
  },
  {
   "cell_type": "code",
   "execution_count": 8,
   "id": "b31ea1db",
   "metadata": {},
   "outputs": [
    {
     "data": {
      "text/html": [
       "<div>\n",
       "<style scoped>\n",
       "    .dataframe tbody tr th:only-of-type {\n",
       "        vertical-align: middle;\n",
       "    }\n",
       "\n",
       "    .dataframe tbody tr th {\n",
       "        vertical-align: top;\n",
       "    }\n",
       "\n",
       "    .dataframe thead th {\n",
       "        text-align: right;\n",
       "    }\n",
       "</style>\n",
       "<table border=\"1\" class=\"dataframe\">\n",
       "  <thead>\n",
       "    <tr style=\"text-align: right;\">\n",
       "      <th></th>\n",
       "      <th>count</th>\n",
       "      <th>mean</th>\n",
       "      <th>std</th>\n",
       "      <th>min</th>\n",
       "      <th>25%</th>\n",
       "      <th>50%</th>\n",
       "      <th>75%</th>\n",
       "      <th>max</th>\n",
       "    </tr>\n",
       "  </thead>\n",
       "  <tbody>\n",
       "    <tr>\n",
       "      <th>Precio</th>\n",
       "      <td>264.0</td>\n",
       "      <td>16.925356</td>\n",
       "      <td>6.868521</td>\n",
       "      <td>4.49</td>\n",
       "      <td>13.31625</td>\n",
       "      <td>16.101</td>\n",
       "      <td>19.4295</td>\n",
       "      <td>59.98</td>\n",
       "    </tr>\n",
       "  </tbody>\n",
       "</table>\n",
       "</div>"
      ],
      "text/plain": [
       "        count       mean       std   min       25%     50%      75%    max\n",
       "Precio  264.0  16.925356  6.868521  4.49  13.31625  16.101  19.4295  59.98"
      ]
     },
     "execution_count": 8,
     "metadata": {},
     "output_type": "execute_result"
    }
   ],
   "source": [
    "precio_df = mlscrap[['Precio']].astype(float)\n",
    "precio_df.describe().T"
   ]
  },
  {
   "cell_type": "code",
   "execution_count": 9,
   "id": "429d74a4",
   "metadata": {},
   "outputs": [
    {
     "data": {
      "text/plain": [
       "12"
      ]
     },
     "execution_count": 9,
     "metadata": {},
     "output_type": "execute_result"
    }
   ],
   "source": [
    "mlscrap.duplicated().sum()"
   ]
  },
  {
   "cell_type": "code",
   "execution_count": 10,
   "id": "c0615b28",
   "metadata": {},
   "outputs": [],
   "source": [
    "mlscrap.drop_duplicates(inplace=True)"
   ]
  },
  {
   "cell_type": "markdown",
   "id": "1f50a15c",
   "metadata": {},
   "source": [
    "."
   ]
  },
  {
   "cell_type": "markdown",
   "id": "7cd14524",
   "metadata": {},
   "source": [
    "# Consideraciones finales:"
   ]
  },
  {
   "cell_type": "markdown",
   "id": "e3602195",
   "metadata": {},
   "source": [
    "<span style=\"font-family: Arial; font-size: 12pt; color: #444654;\">     \n",
    "Los proyectos de Scraing deben utilizarse con rsponsabilidad y precausión para no causar daños al propietrio de la pagina web. SI una pagina web ofrece API, es mejor utilzar esa opción en lugar de metodos de Scraping. Este proyecto, aunque es funcional, fue hecho con una finalidad experimental y académica. </span>"
   ]
  },
  {
   "cell_type": "markdown",
   "id": "2c8a3f8b",
   "metadata": {},
   "source": [
    "<div style=\"text-align: center; background: linear-gradient(to right, #8E44AD, #3498DB); padding: 10px;\">\n",
    "    <a href=\"https://github.com/JUANDAX1\" style=\"color: #fff; text-decoration: none; font-size: 18px;\">\n",
    "        Visita mi perfil en GitHub ➡️\n",
    "    </a>\n",
    "</div>\n"
   ]
  },
  {
   "cell_type": "markdown",
   "id": "ae11409e",
   "metadata": {},
   "source": [
    "."
   ]
  }
 ],
 "metadata": {
  "kernelspec": {
   "display_name": "Python 3 (ipykernel)",
   "language": "python",
   "name": "python3"
  },
  "language_info": {
   "codemirror_mode": {
    "name": "ipython",
    "version": 3
   },
   "file_extension": ".py",
   "mimetype": "text/x-python",
   "name": "python",
   "nbconvert_exporter": "python",
   "pygments_lexer": "ipython3",
   "version": "3.10.13"
  },
  "toc": {
   "base_numbering": 1,
   "nav_menu": {},
   "number_sections": true,
   "sideBar": true,
   "skip_h1_title": false,
   "title_cell": "Table of Contents",
   "title_sidebar": "Contents",
   "toc_cell": true,
   "toc_position": {
    "height": "calc(100% - 180px)",
    "left": "10px",
    "top": "150px",
    "width": "238.4px"
   },
   "toc_section_display": true,
   "toc_window_display": true
  },
  "varInspector": {
   "cols": {
    "lenName": 16,
    "lenType": 16,
    "lenVar": 40
   },
   "kernels_config": {
    "python": {
     "delete_cmd_postfix": "",
     "delete_cmd_prefix": "del ",
     "library": "var_list.py",
     "varRefreshCmd": "print(var_dic_list())"
    },
    "r": {
     "delete_cmd_postfix": ") ",
     "delete_cmd_prefix": "rm(",
     "library": "var_list.r",
     "varRefreshCmd": "cat(var_dic_list()) "
    }
   },
   "types_to_exclude": [
    "module",
    "function",
    "builtin_function_or_method",
    "instance",
    "_Feature"
   ],
   "window_display": false
  }
 },
 "nbformat": 4,
 "nbformat_minor": 5
}
